{
  "nbformat": 4,
  "nbformat_minor": 0,
  "metadata": {
    "colab": {
      "name": "NMA-pheasant detectives.ipynb",
      "provenance": [],
      "toc_visible": true,
      "authorship_tag": "ABX9TyNuQpaSidu1FEG1Ykmok+Q2",
      "include_colab_link": true
    },
    "kernelspec": {
      "name": "python3",
      "display_name": "Python 3"
    },
    "language_info": {
      "name": "python"
    }
  },
  "cells": [
    {
      "cell_type": "markdown",
      "metadata": {
        "id": "view-in-github",
        "colab_type": "text"
      },
      "source": [
        "<a href=\"https://colab.research.google.com/github/hedy233/NMA-pheasant-detectives/blob/main/NMA_pheasant_detectives_update.ipynb\" target=\"_parent\"><img src=\"https://colab.research.google.com/assets/colab-badge.svg\" alt=\"Open In Colab\"/></a>"
      ]
    },
    {
      "cell_type": "code",
      "metadata": {
        "colab": {
          "base_uri": "https://localhost:8080/"
        },
        "id": "Qb9NjwVYjdZu",
        "outputId": "82e7a2dc-71cc-4662-da61-42acdfd8d871"
      },
      "source": [
        "!git clone https://github.com/hedy233/NMA-pheasant-detectives.git"
      ],
      "execution_count": 1,
      "outputs": [
        {
          "output_type": "stream",
          "text": [
            "Cloning into 'NMA-pheasant-detectives'...\n",
            "remote: Enumerating objects: 44, done.\u001b[K\n",
            "remote: Counting objects: 100% (44/44), done.\u001b[K\n",
            "remote: Compressing objects: 100% (44/44), done.\u001b[K\n",
            "remote: Total 44 (delta 12), reused 0 (delta 0), pack-reused 0\u001b[K\n",
            "Unpacking objects: 100% (44/44), done.\n"
          ],
          "name": "stdout"
        }
      ]
    },
    {
      "cell_type": "code",
      "metadata": {
        "colab": {
          "base_uri": "https://localhost:8080/"
        },
        "id": "YYlJa7-HjjaI",
        "outputId": "1f9bee76-f8c2-418e-ecd7-fb080f0e3b9b"
      },
      "source": [
        "!ls NMA-pheasant-detectives/"
      ],
      "execution_count": 2,
      "outputs": [
        {
          "output_type": "stream",
          "text": [
            "ERP_sub_1.npz  ERP_sub_7.npz\t\t\t      power_sub_2.npz\n",
            "ERP_sub_4.npz  facehouse_5sub_respdata_2nd_0719.xlsx  power_sub_3.npz\n",
            "ERP_sub_5.npz  NMA_pheasant_detectives.ipynb\t      power_sub_4.npz\n",
            "ERP_sub_6.npz  power_sub_1.npz\t\t\t      power_sub_5.npz\n"
          ],
          "name": "stdout"
        }
      ]
    },
    {
      "cell_type": "code",
      "metadata": {
        "id": "qXgSraWmjshs"
      },
      "source": [
        "import pandas as pd\n",
        "import numpy as np\n",
        "import matplotlib.pyplot as plt\n"
      ],
      "execution_count": 3,
      "outputs": []
    },
    {
      "cell_type": "code",
      "metadata": {
        "id": "PBQXbFvMw3Jf"
      },
      "source": [
        "behav = pd.ExcelFile('NMA-pheasant-detectives/facehouse_5sub_respdata_2nd_0719.xlsx')\n",
        "behav_sub1 = pd.read_excel(behav,'sub1')\n",
        "behav_sub4 = pd.read_excel(behav,'sub4')\n",
        "behav_sub5 = pd.read_excel(behav,'sub5')\n",
        "behav_sub6 = pd.read_excel(behav,'sub6')\n",
        "behav_sub7 = pd.read_excel(behav,'sub7')\n",
        "behav_allsub_raw = pd.read_excel(behav,'all_sub_raw')\n",
        "behav_note = pd.read_excel(behav,'note')"
      ],
      "execution_count": 6,
      "outputs": []
    },
    {
      "cell_type": "code",
      "metadata": {
        "colab": {
          "base_uri": "https://localhost:8080/",
          "height": 419
        },
        "id": "0Mw5fggbxDVj",
        "outputId": "15b9f164-6f90-4061-f5a7-8f745fd0a65a"
      },
      "source": [
        "behav_sub1"
      ],
      "execution_count": 7,
      "outputs": [
        {
          "output_type": "execute_result",
          "data": {
            "text/html": [
              "<div>\n",
              "<style scoped>\n",
              "    .dataframe tbody tr th:only-of-type {\n",
              "        vertical-align: middle;\n",
              "    }\n",
              "\n",
              "    .dataframe tbody tr th {\n",
              "        vertical-align: top;\n",
              "    }\n",
              "\n",
              "    .dataframe thead th {\n",
              "        text-align: right;\n",
              "    }\n",
              "</style>\n",
              "<table border=\"1\" class=\"dataframe\">\n",
              "  <thead>\n",
              "    <tr style=\"text-align: right;\">\n",
              "      <th></th>\n",
              "      <th>sub</th>\n",
              "      <th>stim_id</th>\n",
              "      <th>stim_noise</th>\n",
              "      <th>t_on</th>\n",
              "      <th>t_off</th>\n",
              "      <th>stim_cat</th>\n",
              "      <th>key_press</th>\n",
              "      <th>resp_acc</th>\n",
              "      <th>resp_time</th>\n",
              "    </tr>\n",
              "  </thead>\n",
              "  <tbody>\n",
              "    <tr>\n",
              "      <th>0</th>\n",
              "      <td>sub1</td>\n",
              "      <td>1</td>\n",
              "      <td>100</td>\n",
              "      <td>3080</td>\n",
              "      <td>4080</td>\n",
              "      <td>1</td>\n",
              "      <td>NaN</td>\n",
              "      <td>NaN</td>\n",
              "      <td>NaN</td>\n",
              "    </tr>\n",
              "    <tr>\n",
              "      <th>1</th>\n",
              "      <td>sub1</td>\n",
              "      <td>2</td>\n",
              "      <td>5</td>\n",
              "      <td>4080</td>\n",
              "      <td>5080</td>\n",
              "      <td>1</td>\n",
              "      <td>NaN</td>\n",
              "      <td>NaN</td>\n",
              "      <td>NaN</td>\n",
              "    </tr>\n",
              "    <tr>\n",
              "      <th>2</th>\n",
              "      <td>sub1</td>\n",
              "      <td>3</td>\n",
              "      <td>85</td>\n",
              "      <td>5080</td>\n",
              "      <td>6080</td>\n",
              "      <td>2</td>\n",
              "      <td>NaN</td>\n",
              "      <td>NaN</td>\n",
              "      <td>NaN</td>\n",
              "    </tr>\n",
              "    <tr>\n",
              "      <th>3</th>\n",
              "      <td>sub1</td>\n",
              "      <td>4</td>\n",
              "      <td>65</td>\n",
              "      <td>6080</td>\n",
              "      <td>7080</td>\n",
              "      <td>1</td>\n",
              "      <td>NaN</td>\n",
              "      <td>NaN</td>\n",
              "      <td>NaN</td>\n",
              "    </tr>\n",
              "    <tr>\n",
              "      <th>4</th>\n",
              "      <td>sub1</td>\n",
              "      <td>5</td>\n",
              "      <td>40</td>\n",
              "      <td>7080</td>\n",
              "      <td>8080</td>\n",
              "      <td>1</td>\n",
              "      <td>NaN</td>\n",
              "      <td>NaN</td>\n",
              "      <td>NaN</td>\n",
              "    </tr>\n",
              "    <tr>\n",
              "      <th>...</th>\n",
              "      <td>...</td>\n",
              "      <td>...</td>\n",
              "      <td>...</td>\n",
              "      <td>...</td>\n",
              "      <td>...</td>\n",
              "      <td>...</td>\n",
              "      <td>...</td>\n",
              "      <td>...</td>\n",
              "      <td>...</td>\n",
              "    </tr>\n",
              "    <tr>\n",
              "      <th>625</th>\n",
              "      <td>sub1</td>\n",
              "      <td>626</td>\n",
              "      <td>50</td>\n",
              "      <td>658280</td>\n",
              "      <td>659280</td>\n",
              "      <td>2</td>\n",
              "      <td>NaN</td>\n",
              "      <td>NaN</td>\n",
              "      <td>NaN</td>\n",
              "    </tr>\n",
              "    <tr>\n",
              "      <th>626</th>\n",
              "      <td>sub1</td>\n",
              "      <td>627</td>\n",
              "      <td>60</td>\n",
              "      <td>659280</td>\n",
              "      <td>660280</td>\n",
              "      <td>1</td>\n",
              "      <td>NaN</td>\n",
              "      <td>NaN</td>\n",
              "      <td>NaN</td>\n",
              "    </tr>\n",
              "    <tr>\n",
              "      <th>627</th>\n",
              "      <td>sub1</td>\n",
              "      <td>628</td>\n",
              "      <td>40</td>\n",
              "      <td>660280</td>\n",
              "      <td>661280</td>\n",
              "      <td>2</td>\n",
              "      <td>NaN</td>\n",
              "      <td>NaN</td>\n",
              "      <td>NaN</td>\n",
              "    </tr>\n",
              "    <tr>\n",
              "      <th>628</th>\n",
              "      <td>sub1</td>\n",
              "      <td>629</td>\n",
              "      <td>75</td>\n",
              "      <td>661280</td>\n",
              "      <td>662280</td>\n",
              "      <td>1</td>\n",
              "      <td>NaN</td>\n",
              "      <td>NaN</td>\n",
              "      <td>NaN</td>\n",
              "    </tr>\n",
              "    <tr>\n",
              "      <th>629</th>\n",
              "      <td>sub1</td>\n",
              "      <td>630</td>\n",
              "      <td>80</td>\n",
              "      <td>662280</td>\n",
              "      <td>663280</td>\n",
              "      <td>1</td>\n",
              "      <td>NaN</td>\n",
              "      <td>NaN</td>\n",
              "      <td>NaN</td>\n",
              "    </tr>\n",
              "  </tbody>\n",
              "</table>\n",
              "<p>630 rows × 9 columns</p>\n",
              "</div>"
            ],
            "text/plain": [
              "      sub  stim_id  stim_noise  ...  key_press  resp_acc  resp_time\n",
              "0    sub1        1         100  ...        NaN       NaN        NaN\n",
              "1    sub1        2           5  ...        NaN       NaN        NaN\n",
              "2    sub1        3          85  ...        NaN       NaN        NaN\n",
              "3    sub1        4          65  ...        NaN       NaN        NaN\n",
              "4    sub1        5          40  ...        NaN       NaN        NaN\n",
              "..    ...      ...         ...  ...        ...       ...        ...\n",
              "625  sub1      626          50  ...        NaN       NaN        NaN\n",
              "626  sub1      627          60  ...        NaN       NaN        NaN\n",
              "627  sub1      628          40  ...        NaN       NaN        NaN\n",
              "628  sub1      629          75  ...        NaN       NaN        NaN\n",
              "629  sub1      630          80  ...        NaN       NaN        NaN\n",
              "\n",
              "[630 rows x 9 columns]"
            ]
          },
          "metadata": {
            "tags": []
          },
          "execution_count": 7
        }
      ]
    },
    {
      "cell_type": "code",
      "metadata": {
        "id": "zVkD1MvnxGTj"
      },
      "source": [
        "sub1_erp = np.load('NMA-pheasant-detectives/ERP_sub_1.npz')\n",
        "sub4_erp = np.load('NMA-pheasant-detectives/ERP_sub_4.npz')\n",
        "sub5_erp = np.load('NMA-pheasant-detectives/ERP_sub_5.npz')\n",
        "sub6_erp = np.load('NMA-pheasant-detectives/ERP_sub_6.npz')\n",
        "sub7_erp = np.load('NMA-pheasant-detectives/ERP_sub_7.npz')"
      ],
      "execution_count": 8,
      "outputs": []
    },
    {
      "cell_type": "code",
      "metadata": {
        "colab": {
          "base_uri": "https://localhost:8080/"
        },
        "id": "oAND7NVlKtUi",
        "outputId": "7f46182f-f553-4a36-d9e5-7d708e7ca493"
      },
      "source": [
        "sub1_erp.files"
      ],
      "execution_count": 9,
      "outputs": [
        {
          "output_type": "execute_result",
          "data": {
            "text/plain": [
              "['args', 'kwds']"
            ]
          },
          "metadata": {
            "tags": []
          },
          "execution_count": 9
        }
      ]
    },
    {
      "cell_type": "code",
      "metadata": {
        "colab": {
          "base_uri": "https://localhost:8080/"
        },
        "id": "4-iwFqFMKuxC",
        "outputId": "56072006-7016-432e-df0b-0424f7fd9b98"
      },
      "source": [
        "sub1_erp['args']"
      ],
      "execution_count": 10,
      "outputs": [
        {
          "output_type": "execute_result",
          "data": {
            "text/plain": [
              "array([[[ 0.03398619, -0.00972891,  0.02648888, ..., -0.1917874 ,\n",
              "         -0.03158203, -0.17645429],\n",
              "        [ 0.03601278, -0.01760111,  0.02078784, ..., -0.20095062,\n",
              "         -0.03004425, -0.17882761],\n",
              "        [ 0.03886743, -0.02260424,  0.01544977, ..., -0.20658764,\n",
              "         -0.02586596, -0.17554426],\n",
              "        ...,\n",
              "        [-0.13995557,  0.01586223,  0.03302855, ..., -0.13187364,\n",
              "         -0.10506083, -0.10352155],\n",
              "        [-0.13744596,  0.00944735,  0.02395178, ..., -0.13719258,\n",
              "         -0.1042358 , -0.09980961],\n",
              "        [-0.13567197,  0.00471361,  0.01604714, ..., -0.14189823,\n",
              "         -0.1032114 , -0.09573023]],\n",
              "\n",
              "       [[-0.01816528, -0.00604618, -0.00101893, ..., -0.02036382,\n",
              "          0.07941858, -0.0057542 ],\n",
              "        [-0.01515562, -0.00572345, -0.00515897, ..., -0.02327419,\n",
              "          0.08328454, -0.00878499],\n",
              "        [-0.01164428, -0.00237838, -0.00705305, ..., -0.02396444,\n",
              "          0.08759743, -0.0087402 ],\n",
              "        ...,\n",
              "        [-0.06168099, -0.02017881,  0.0877213 , ..., -0.02492167,\n",
              "          0.06328884,  0.04422656],\n",
              "        [-0.06298135, -0.02582482,  0.08662295, ..., -0.02581277,\n",
              "          0.06614278,  0.03900864],\n",
              "        [-0.0624447 , -0.03129386,  0.08755536, ..., -0.02321189,\n",
              "          0.07467262,  0.04049971]],\n",
              "\n",
              "       [[-0.00725393, -0.03487793, -0.03388311, ..., -0.02356053,\n",
              "          0.07501037,  0.06991944],\n",
              "        [-0.01118785, -0.04188474, -0.03505692, ..., -0.02066917,\n",
              "          0.07440127,  0.06607331],\n",
              "        [-0.01168416, -0.0435172 , -0.03220925, ..., -0.0167894 ,\n",
              "          0.07399951,  0.06813632],\n",
              "        ...,\n",
              "        [ 0.03380727, -0.03897526,  0.06837301, ...,  0.19116539,\n",
              "          0.15264511, -0.18428896],\n",
              "        [ 0.03827872, -0.03939692,  0.07099693, ...,  0.18598244,\n",
              "          0.15530863, -0.18980095],\n",
              "        [ 0.04320778, -0.03819446,  0.07536626, ...,  0.1818396 ,\n",
              "          0.15813151, -0.18928002]],\n",
              "\n",
              "       [[-0.2067602 ,  0.03095301,  0.10739383, ...,  0.14123662,\n",
              "          0.15537156, -0.06286801],\n",
              "        [-0.20417944,  0.02590623,  0.10721217, ...,  0.1478481 ,\n",
              "          0.16433385, -0.06133606],\n",
              "        [-0.20123836,  0.01891055,  0.10208666, ...,  0.15153934,\n",
              "          0.17277728, -0.0615101 ],\n",
              "        ...,\n",
              "        [-0.05389538,  0.07754429, -0.09128162, ..., -0.1295034 ,\n",
              "          0.139527  ,  0.05382533],\n",
              "        [-0.05146974,  0.07919223, -0.0912267 , ..., -0.12820545,\n",
              "          0.140602  ,  0.06003423],\n",
              "        [-0.04888324,  0.07535317, -0.09087288, ..., -0.1251069 ,\n",
              "          0.14173031,  0.0612199 ]]], dtype=float32)"
            ]
          },
          "metadata": {
            "tags": []
          },
          "execution_count": 10
        }
      ]
    },
    {
      "cell_type": "code",
      "metadata": {
        "id": "DMH0VqzzBU9f",
        "outputId": "ec008ec0-9086-4611-f773-1f780d71e489",
        "colab": {
          "base_uri": "https://localhost:8080/"
        }
      },
      "source": [
        "sub1_erp['kwds']"
      ],
      "execution_count": 11,
      "outputs": [
        {
          "output_type": "execute_result",
          "data": {
            "text/plain": [
              "array(['face_45', 'face_50', 'house_45', 'house_50'], dtype='<U8')"
            ]
          },
          "metadata": {
            "tags": []
          },
          "execution_count": 11
        }
      ]
    },
    {
      "cell_type": "code",
      "metadata": {
        "id": "SXJOjOTALl_a"
      },
      "source": [
        ""
      ],
      "execution_count": 11,
      "outputs": []
    },
    {
      "cell_type": "code",
      "metadata": {
        "id": "gSyB3989MBUx"
      },
      "source": [
        ""
      ],
      "execution_count": 11,
      "outputs": []
    },
    {
      "cell_type": "code",
      "metadata": {
        "id": "jtXQRPojMDOa"
      },
      "source": [
        ""
      ],
      "execution_count": 11,
      "outputs": []
    },
    {
      "cell_type": "code",
      "metadata": {
        "id": "bO0QevwNME6t"
      },
      "source": [
        ""
      ],
      "execution_count": null,
      "outputs": []
    }
  ]
}